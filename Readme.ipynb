{
 "cells": [
  {
   "cell_type": "markdown",
   "metadata": {},
   "source": [
    "# Salary Prediction for Data Roles in the U.S. (Glassdoor 2020)\n"
   ]
  },
  {
   "cell_type": "markdown",
   "metadata": {},
   "source": [
    "*Franco Pérez Rivera — Data Portfolio Project – 2025*"
   ]
  },
  {
   "cell_type": "markdown",
   "metadata": {},
   "source": [
    "## 0. Table of Contents\n",
    "\n",
    "1. [Project Overview](#project-overview)  \n",
    "2. [Project Goals](#project-goals)  \n",
    "3. [Dataset Structure](#data-structure)  \n",
    "4. [Executive Summary](#executive-summary)  \n",
    "5. [Insight Deep Dive](#insight-deep-dive)  \n",
    "    5.1 [Data Cleaning and Feature Engineering](#data-cleaning-and-feature-engineering)  \n",
    "    5.2 [Exploratory Data Analysis (EDA)](#exploratory-data-analysis-eda)  \n",
    "    5.3 [Cost of Living Adjustment](#cost-of-living-adjustment)  \n",
    "    5.4 [Modeling Results](#modeling-results)  \n",
    "6. [Recommendations](#recommendations)  \n",
    "7. [Technical Details](#technical-details)  \n",
    "8. [Caveats and Assumptions](#caveats-and-assumptions)  \n"
   ]
  },
  {
   "cell_type": "markdown",
   "metadata": {},
   "source": [
    "## 1. Project Overview\n",
    "\n",
    "This project analyzes U.S. data-related job listings from 2020, aiming to understand the factors that influence salary levels in the data science job market. Using a dataset collected from Glassdoor and enriched with cost of living estimates, the goal is to extract actionable insights on how different job characteristics, company attributes, and geographic regions impact salary outcomes.\n",
    "\n",
    "This information can be especially valuable for:\n",
    "\n",
    "- **Job seekers**, who want to understand what affects salary offers and which roles or skills are most lucrative.\n",
    "- **Recruiters and HR teams**, interested in benchmarking compensation based on job type and technical requirements.\n",
    "- **Policy makers and workforce analysts**, exploring trends in tech labor markets across U.S. regions.\n",
    "\n",
    "By analyzing both raw salary values and adjusted purchasing power (based on regional living costs), the project offers a comprehensive perspective on compensation in the U.S. data industry.\n"
   ]
  },
  {
   "cell_type": "markdown",
   "metadata": {},
   "source": [
    "## 2. Project Goals\n",
    "\n",
    "- **Evaluate key factors** that influence salaries in data-related roles, including job title, experience level, industry, and technical requirements.\n",
    "\n",
    "- **Analyze regional salary differences**, adjusting for cost of living across U.S. states to better reflect real-world purchasing power.\n",
    "\n",
    "- **Transform and prepare the dataset** through cleaning, feature extraction, and recategorization to enable effective modeling and interpretation.\n",
    "\n",
    "- **Build predictive models** using both linear and tree-based approaches to estimate salaries based on job, company, and location characteristics.\n",
    "\n",
    "- **Compare modeling approaches** in terms of accuracy, interpretability, and suitability for salary prediction use cases.\n"
   ]
  },
  {
   "cell_type": "markdown",
   "metadata": {},
   "source": [
    "## 3. Dataset Structure\n",
    "\n",
    "The dataset consists of approximately 950 job listings for data-related roles in the United States, originally scraped from Glassdoor in 2020. Each record includes a combination of structured and unstructured information, such as:\n",
    "\n",
    "- Job title, location, and description\n",
    "- Company size, industry, revenue, and Glassdoor rating\n",
    "- Estimated salary range (min and max)\n",
    "- Required technical tools and skills (e.g., Python, SQL, AWS)\n",
    "\n",
    "To support different phases of analysis and modeling, the dataset was transformed into three tailored versions:\n",
    "\n",
    "- **`df_analysis`**: Cleaned and deduplicated for exploratory data analysis (EDA).\n",
    "- **`df_modeling_tree`**: Includes all listings (with duplicates), optimized for tree-based models that benefit from pattern repetition.\n",
    "- **`df_modeling_linear`**: Deduplicated and includes a weight column to preserve statistical influence in linear regression models.\n",
    "\n",
    "Each version contains approximately 40 features, covering:\n",
    "- Job metadata (title, description, location)\n",
    "- Extracted features (e.g., experience, tool knowledge, job category)\n",
    "- Recategorized company attributes (e.g., industry, revenue, size)\n",
    "- Binary flags for relevant technical tools (e.g., Python, SQL, AWS)\n"
   ]
  },
  {
   "cell_type": "markdown",
   "metadata": {},
   "source": [
    "## 4. Executive Summary\n"
   ]
  },
  {
   "cell_type": "markdown",
   "metadata": {},
   "source": [
    "\n",
    "This project explores salary trends in data-related roles across the United States, based on approximately 950 job listings scraped from Glassdoor in 2020. The goal was to identify the key factors that influence compensation and to develop a predictive model capable of estimating market-aligned salaries.\n",
    "\n",
    "### a. Key Findings\n",
    "\n",
    "- **Average salary across all listings**: **$101.5K**\n",
    "- **Highest-paying role**: *Data Scientist* (**$115.8K** average)\n",
    "- **Lowest-paying role**: *Data Analyst* (**$66.0K** average)\n",
    "- **Seniority impact**: *Senior roles* earned on average **$30.7K more** than entry-level positions\n",
    "- **Industry differences**: *Tech / Innovation* and *Health / Education* sectors offered the highest compensation\n",
    "- **Company characteristics**: Large corporations and high-revenue firms paid up to **$15–20K more** than smaller companies\n",
    "- **Regional trends**: Top-paying states included California, Massachusetts, and Illinois. However, salary adjusted for cost of living revealed that states like Illinois and Maryland offered greater **real purchasing power**\n",
    "\n",
    "### b. Tools and Technical Skills\n",
    "\n",
    "- Listings mentioning tools like **Scikit-learn**, **Keras**, **TensorFlow**, **Spark**, and **AWS** were associated with salary premiums of **$10K–$20K** above average\n",
    "- In contrast, **Excel**, **Power BI**, and **Tableau** were linked to lower salaries, aligning with their prevalence in analyst roles\n",
    "- Tool indicators were consolidated into grouped binary variables (e.g., *Python_Tools_Knowledge*, *Cloud_or_BigData_Knowledge*) to improve model interpretability\n",
    "\n",
    "### c. Predictive Modeling\n",
    "\n",
    "- A tuned **XGBoost Regressor** achieved the best overall performance:\n",
    "  - **MAE**: $11.2K\n",
    "  - **RMSE**: $18.2K\n",
    "  - **R²**: 0.72 on the test set\n",
    "- Linear models (e.g., Ridge Regression) underperformed, highlighting the benefit of non-linear methods in capturing complex salary dynamics\n",
    "- Top predictive features included **job category**, **region**, **industry**, and selected company attributes\n",
    "\n",
    "\n"
   ]
  },
  {
   "cell_type": "markdown",
   "metadata": {},
   "source": [
    "## 5. Insight Deep Dive"
   ]
  },
  {
   "cell_type": "markdown",
   "metadata": {
    "vscode": {
     "languageId": "plaintext"
    }
   },
   "source": [
    "This section provides a detailed breakdown of the core analytical components of the project, including data preparation, exploratory data analysis, cost of living integration, and model development. Each step contributes to a deeper understanding of the factors shaping salary distributions across roles and regions."
   ]
  },
  {
   "cell_type": "markdown",
   "metadata": {},
   "source": [
    "\n",
    "\n",
    "### a. Data Cleaning and Feature Engineering"
   ]
  },
  {
   "cell_type": "markdown",
   "metadata": {},
   "source": [
    "The raw dataset contained approximately 950 job listings for data-related roles in the U.S., collected from Glassdoor in 2020. To support different modeling strategies and ensure analytical flexibility, three tailored datasets were created:\n",
    "\n",
    "- **`df_analysis`**: Used for exploratory data analysis (EDA), with duplicate listings removed to avoid statistical bias.\n",
    "- **`df_modeling_tree`**: Designed for tree-based models (e.g., Random Forest, XGBoost), retaining all duplicates to leverage repeated patterns.\n",
    "- **`df_modeling_linear`**: Prepared for linear and regularized models, duplicates removed, and a **weight column** added to preserve the frequency of each unique observation.\n",
    "\n",
    "A series of feature engineering steps were then applied to convert raw and unstructured data into structured, model-ready variables:\n",
    "\n",
    "1. **Salary Extraction**:  \n",
    "   The `avg_salary` variable was computed as the midpoint between the minimum and maximum values in the original salary estimate. For linear models, this variable was transformed using the **Box-Cox method** to reduce skewness and approximate normality.\n",
    "\n",
    "2. **Job Title Categorization**:  \n",
    "   Job titles were standardized into a controlled set of categories (e.g., *Data Scientist*, *Data Analyst*, *Machine Learning Engineer*) using regular expression–based pattern matching. This reduced dimensionality and enhanced interpretability.\n",
    "\n",
    "3. **Years of Experience**:  \n",
    "   Numeric experience values were extracted from the job description text using regular expressions. Outliers (e.g., 80 years) were manually reviewed and corrected. Listings with no numeric match were classified using qualitative indicators such as “strong experience.”\n",
    "\n",
    "4. **Experience Level Assignment**:  \n",
    "   A unified `merged_experience_category` was created by combining numeric and textual data into five standardized levels: **Entry**, **Junior**, **Mid**, **Senior**, and **Unknown**.\n",
    "\n",
    "5. **Tool Extraction**:  \n",
    "   Over 20 technical tools and libraries (e.g., *Python*, *SQL*, *Spark*, *Tableau*, *AWS*) were identified through keyword searches. Binary flags were created for each, and only tools with sufficient frequency and relevance were retained for analysis and modeling.\n",
    "\n",
    "6. **Industry and Sector Reassignment**:  \n",
    "   Original company industry and sector fields were cleaned and consolidated into broader, interpretable categories such as **Tech / Innovation**, **Finance**, **Healthcare**, and **Public / Education** to reduce noise and improve model performance.\n",
    "\n",
    "These transformations ensured that the dataset was both statistically robust and semantically meaningful for the downstream analysis.\n"
   ]
  },
  {
   "cell_type": "markdown",
   "metadata": {},
   "source": [
    "### b. Exploratory Data Analysis (EDA)\n",
    "\n"
   ]
  },
  {
   "cell_type": "markdown",
   "metadata": {},
   "source": [
    "The exploratory analysis focused on understanding the distribution of salaries and identifying which variables are most strongly associated with compensation. It also informed decisions around feature selection and model design."
   ]
  },
  {
   "cell_type": "markdown",
   "metadata": {},
   "source": [
    "\n",
    "\n",
    "#### 1. Target Variable: `avg_salary`"
   ]
  },
  {
   "cell_type": "markdown",
   "metadata": {},
   "source": [
    "The average salary across job listings was approximately **$101.5K**, with a right-skewed distribution driven by a small number of high-paying roles—primarily senior positions in finance and technology.\n",
    "\n",
    "To stabilize variance and improve model performance, both **log** and **Box-Cox transformations** were evaluated. The **Box-Cox–transformed version** (`avg_salary_boxcox`) achieved near-normality (Shapiro-Wilk p ≈ 0.73) and was selected as the target for linear models, while the original `avg_salary` was retained for tree-based models.\n"
   ]
  },
  {
   "cell_type": "markdown",
   "metadata": {},
   "source": [
    "![Distribution and Normality of Target Variable](images/boxcox_transformation.png)\n",
    "\n",
    "**Figure 1.** Distribution and QQ plots of the target variable after log and Box-Cox transformations. The Box-Cox version was selected for linear models due to improved normality (Shapiro-Wilk p ≈ 0.73).\n"
   ]
  },
  {
   "cell_type": "markdown",
   "metadata": {},
   "source": [
    "#### 2. Numerical Variables\n"
   ]
  },
  {
   "cell_type": "markdown",
   "metadata": {},
   "source": [
    "We analyzed all numerical features using histograms, boxplots, and the Shapiro-Wilk test for normality. Additionally, Pearson and Spearman correlations were computed to assess their relationship with the target (`avg_salary_boxcox`).\n",
    "\n",
    "- **Rating**: Showed a weak but statistically significant positive correlation with salary. Companies with higher Glassdoor ratings tend to offer slightly better compensation.\n",
    "- **Description Length** and **Company Age**: Displayed low or inconsistent correlations with salary and were excluded or recategorized during feature selection.\n"
   ]
  },
  {
   "cell_type": "markdown",
   "metadata": {},
   "source": [
    "![Numerical Variable Analysis](images/numerical_rating_salary.png)\n",
    "\n",
    "**Figure 2.** Visual analysis of numerical variables. Left: Regression between company rating and Box-Cox–transformed salary. Center: Distribution of Glassdoor ratings. Right: Distribution of the transformed target variable (`avg_salary_boxcox`).\n"
   ]
  },
  {
   "cell_type": "markdown",
   "metadata": {},
   "source": [
    "#### 3. Tools"
   ]
  },
  {
   "cell_type": "markdown",
   "metadata": {},
   "source": [
    "##### a. Tool Usage by Role\n",
    "\n",
    "\n"
   ]
  },
  {
   "cell_type": "markdown",
   "metadata": {},
   "source": [
    "We analyzed tool prevalence across job categories using binary indicators for over 20 technical tools and libraries extracted from job descriptions.\n",
    "\n",
    "Starting with the heatmap of tool usage by role, we observed a clear pattern: **higher-paying roles tend to require a broader and more advanced technical stack**.\n",
    "\n",
    "- **Data Scientists** and **Machine Learning Engineers** frequently list tools such as Python, SQL, Spark, TensorFlow, and AWS—technologies commonly associated with machine learning, cloud computing, and big data.\n",
    "- **Data Analysts**, on the other hand, rely heavily on SQL and Excel, with limited exposure to more complex tools.\n",
    "\n",
    "This distribution aligns with expectations: **roles with higher technical demands tend to offer greater compensation**, reflecting both the required skill set and the complexity of the work.\n",
    "\n"
   ]
  },
  {
   "cell_type": "markdown",
   "metadata": {},
   "source": [
    "![Tool Usage by Role](images/tool_usage_heatmap.png)\n",
    "\n",
    "**Figure 3.** Prevalence of selected tools by job category. Roles are sorted from highest to lowest average salary (left to right)."
   ]
  },
  {
   "cell_type": "markdown",
   "metadata": {},
   "source": [
    "##### b. Tool Analysis and Engineering\n",
    "\n",
    "\n"
   ]
  },
  {
   "cell_type": "markdown",
   "metadata": {},
   "source": [
    "We began by analyzing the frequency of technical tools across all job listings. As shown in the first bar chart, the most requested tools were **Python**, **SQL**, and **Excel**, appearing in over 250 listings each. These tools were common across all roles, with variation in accompanying technologies.\n",
    "\n",
    "We then assessed the **salary impact of each tool** using t-tests. The results revealed a clear pattern (see second chart):\n",
    "\n",
    "- Tools with a **statistically significant positive impact** on salary included:\n",
    "  - **Python-based libraries**: *Scikit-learn*, *TensorFlow*, *Keras*, *Pandas*\n",
    "  - **Cloud or big data tools**: *Spark*, *AWS*, *Docker*\n",
    "\n",
    "- Tools like **Excel**, **Tableau**, and **Power BI** showed **no significant effect** or were **negatively associated** with salary, aligning with their heavier usage in lower-paying analyst roles.\n",
    "\n",
    "To simplify the model and reduce sparsity, we grouped selected binary tool indicators into two high-level features:\n",
    "- **Python_Tools_Knowledge**: Indicates experience with core Python-based libraries\n",
    "- **Cloud_or_BigData_Knowledge**: Summarizes exposure to cloud and distributed computing platforms\n",
    "\n",
    "These engineered variables helped preserve signal strength while improving model interpretability.\n",
    "\n"
   ]
  },
  {
   "cell_type": "markdown",
   "metadata": {},
   "source": [
    "![Tool Frequency](images/tool_frequency.png)\n",
    "\n",
    "**Figure 4.** Most requested tools across data-related job listings.\n",
    "\n",
    "![Tool Salary Impact](images/tool_salary_impact.png)\n",
    "\n",
    "**Figure 5.** Average salary difference for roles requiring each tool, relative to the dataset mean. Only statistically significant results are shown."
   ]
  },
  {
   "cell_type": "markdown",
   "metadata": {},
   "source": [
    "#### 4. Cost of Living Adjustment"
   ]
  },
  {
   "cell_type": "markdown",
   "metadata": {},
   "source": [
    "Raw salary values can be misleading when not adjusted for regional expenses, which vary significantly across the U.S.—especially in categories like housing, food, healthcare, and taxes. To provide a more realistic picture of compensation, we integrated **cost of living (COL) data** at the state level.\n",
    "\n",
    "Data was sourced from the **Economic Policy Institute’s Family Budget Calculator**, which estimates the annual cost of living for a four-person household (two adults, two children). The calculation includes housing, food, transportation, healthcare, taxes, and other basic necessities.\n",
    "\n",
    "Key findings:\n",
    "\n",
    "- **California**, **Massachusetts**, and **New York** offered some of the highest nominal salaries, but also ranked among the most expensive states to live in.\n",
    "- However, after subtracting living costs, states like **Illinois** and **Maryland** emerged as offering the **highest salary surplus** (i.e., disposable income after expenses).\n",
    "- **Massachusetts** and **West Other** regions showed a relatively low surplus despite competitive nominal salaries.\n",
    "- Interestingly, some lower-salary states with low cost of living—such as **Texas** or **Ohio**—offered compensation adjusted for purchasing power that rivaled wealthier regions.\n",
    "\n",
    "> **Note:** New York's position may be misleading, as the analysis uses average statewide costs. Most data roles in the dataset are based in **Manhattan**, where actual living expenses are substantially higher than the state average.\n",
    "\n",
    "This adjustment helped contextualize compensation by focusing on **real purchasing power**, providing a more accurate basis for evaluating job opportunities across regions."
   ]
  },
  {
   "cell_type": "markdown",
   "metadata": {},
   "source": [
    "![Top 10 Most Expensive States](images/cost_breakdown_top_states.png)  \n",
    "**Figure 6.** Breakdown of annual living costs by category for the 10 most expensive states.\n",
    "\n",
    "![Salary Minus Living Costs](images/salary_surplus_barplot.png)  \n",
    "**Figure 7.** Average surplus (salary minus living costs) by state or region.\n",
    "\n",
    "![Salary Surplus Map](images/salary_surplus_map.png)  \n",
    "**Figure 8.** U.S. map showing salary surplus by state, highlighting regions with the highest adjusted compensation.\n"
   ]
  },
  {
   "cell_type": "markdown",
   "metadata": {},
   "source": [
    "#### 5. Categorical Variables\n"
   ]
  },
  {
   "cell_type": "markdown",
   "metadata": {},
   "source": [
    "Several categorical features were analyzed to evaluate their relationship with salary and determine their inclusion in the final model.\n"
   ]
  },
  {
   "cell_type": "markdown",
   "metadata": {},
   "source": [
    "##### a. Job Category\n"
   ]
  },
  {
   "cell_type": "markdown",
   "metadata": {},
   "source": [
    "\n",
    "This was one of the strongest predictors of salary. After merging similar roles into four categories—*Data Scientist*, *Data Engineer*, *Data Analyst*, and *Other*—clear differences emerged.\n",
    "\n",
    "- **Average salary for Data Scientists**: $115.8K  \n",
    "- **Average salary for Data Analysts**: $66.0K  \n",
    "\n",
    "The gap highlights how technical complexity and specialization impact compensation."
   ]
  },
  {
   "cell_type": "markdown",
   "metadata": {},
   "source": [
    "![Salary by Job Category](images/salary_by_job_category.png)  \n",
    "**Figure 9.** Average salary by job category, ordered from highest to lowest."
   ]
  },
  {
   "cell_type": "markdown",
   "metadata": {},
   "source": [
    "##### b.Experience Category\n"
   ]
  },
  {
   "cell_type": "markdown",
   "metadata": {},
   "source": [
    "Experience level, derived from both text and numeric extraction, showed a consistent gradient in compensation.\n",
    "\n",
    "- **Senior roles** earned on average **$30.7K more** than entry-level roles.\n",
    "- Mid- and junior-level positions fell in between, forming a meaningful middle tier."
   ]
  },
  {
   "cell_type": "markdown",
   "metadata": {},
   "source": [
    "![Salary by Experience Category](images/salary_by_experience.png)  \n",
    "**Figure 10.** Box-Cox–transformed salary by merged experience category."
   ]
  },
  {
   "cell_type": "markdown",
   "metadata": {},
   "source": [
    "##### c. Company Size (Recategorized)\n"
   ]
  },
  {
   "cell_type": "markdown",
   "metadata": {},
   "source": [
    "Larger companies generally offered higher salaries. We grouped employers into four categories: *Small*, *Medium*, *Large*, and *Corporation / Multinational*.\n",
    "\n",
    "- **Corporations**: $108.6K average  \n",
    "- **Medium Companies**: $96.4K average  "
   ]
  },
  {
   "cell_type": "markdown",
   "metadata": {},
   "source": [
    "![Salary by Company Size](images/salary_by_size.png)  \n",
    "**Figure 11.** Average salary by company size category."
   ]
  },
  {
   "cell_type": "markdown",
   "metadata": {},
   "source": [
    "##### d. Region (Grouped by State)\n"
   ]
  },
  {
   "cell_type": "markdown",
   "metadata": {},
   "source": [
    "Geographic region significantly influenced salaries.\n",
    "\n",
    "- **Top-paying states**: California ($123.4K), Massachusetts ($105.8K), Illinois ($105.6K)  \n",
    "- **Lowest-paying regions**: Midwest Other and West Other, below $85K\n",
    "\n",
    "\n"
   ]
  },
  {
   "cell_type": "markdown",
   "metadata": {},
   "source": [
    "![Salary by Region](images/salary_by_state.png)  \n",
    "**Figure 12.** Average salary grouped by state region."
   ]
  },
  {
   "cell_type": "markdown",
   "metadata": {},
   "source": [
    "##### e. Company Revenue (Recategorized)\n",
    "\n",
    "A similar pattern was observed with revenue. Higher-revenue firms tended to offer better compensation.\n",
    "\n",
    "- **Corporations / Multinational**: $112.3K  \n",
    "- **Small/Micro Businesses**: under $96K on average\n",
    "\n",
    "*(Graph omitted for brevity in this version, but included in full analysis)*\n",
    "\n",
    "##### f. Industry (Recategorized)\n",
    "\n",
    "Industry grouping revealed variation aligned with sector specialization.\n",
    "\n",
    "- **Tech / Innovation**: $109.4K average  \n",
    "- **Public & Essential Services**: $80.7K average\n",
    "\n",
    "*(Graph omitted for brevity in this version, but included in full analysis)*"
   ]
  },
  {
   "cell_type": "markdown",
   "metadata": {},
   "source": [
    "### c. Modeling Results"
   ]
  },
  {
   "cell_type": "markdown",
   "metadata": {},
   "source": [
    "We developed two parallel modeling pipelines to predict average salary from structured job and company attributes:\n",
    "\n",
    "- **Linear models** (with Box-Cox–transformed target) trained on deduplicated data with row weights\n",
    "- **Tree-based models** (with untransformed target) trained on the full dataset, leveraging duplicates to enhance pattern learning\n",
    "\n",
    "All models were built using **scikit-learn Pipelines** for consistent preprocessing (encoding, scaling, transformation) and tuned via **GridSearchCV** for reproducibility and performance optimization."
   ]
  },
  {
   "cell_type": "markdown",
   "metadata": {},
   "source": [
    "#### 1. Model Comparison\n"
   ]
  },
  {
   "cell_type": "markdown",
   "metadata": {},
   "source": [
    "Multiple models were evaluated using 5-fold cross-validation and a held-out test set. Performance was assessed using MAE, RMSE, and R².\n",
    "\n",
    "Key results on the test set:\n",
    "\n",
    "- **XGBoost Regressor (Tuned)** delivered the best performance:\n",
    "  - MAE: **$11.2K**\n",
    "  - RMSE: **$18.2K**\n",
    "  - R²: **0.72**\n",
    "\n",
    "- Among linear models, **Ridge Regression** performed best:\n",
    "  - MAE: **$13.6K**\n",
    "  - R²: **0.29**\n",
    "  - Performance was notably lower than tree-based models.\n",
    "\n",
    "- Ensemble models (stacking) achieved marginal improvements but increased complexity.\n"
   ]
  },
  {
   "cell_type": "markdown",
   "metadata": {},
   "source": [
    "| Model Description                        | Train MAE | Test MAE | Train R² | Test R² |\n",
    "|------------------------------------------|-----------|----------|----------|---------|\n",
    "| **XGBoost (Tuned)**                      | 2.11      | **11.19**| **0.992**| **0.716** |\n",
    "| Stack v2 (xgb + lgb / Ridge)             | 3.90      | 12.24    | 0.976    | 0.701   |\n",
    "| Stack v3 (rf + xgb + ridge / Lasso)      | 3.78      | 11.96    | 0.977    | 0.701   |\n",
    "| Stack v1 (ridge + rf + lgb / LR)         | 3.86      | 11.85    | 0.975    | 0.699   |\n",
    "| Random Forest (Base)                     | 5.17      | 12.42    | 0.951    | 0.685   |\n",
    "| Random Forest (Tuned)                    | 5.20      | 12.87    | 0.953    | 0.676   |\n",
    "| Random Forest (Reduced Features)         | 5.00      | 12.97    | 0.955    | 0.667   |\n",
    "| LightGBM (Tuned)                         | 4.10      | 13.12    | 0.968    | 0.664   |\n",
    "| LightGBM                                 | 7.90      | 14.89    | 0.906    | 0.645   |\n",
    "| Stack v4 (all / GBoost)                  | 8.25      | 15.51    | 0.856    | 0.500   |\n",
    "| Lasso Regression                         | 0.57      | 0.57     | 0.452    | 0.424   |\n",
    "| Ridge Regression                         | 0.52      | 0.63     | 0.527    | 0.291   |\n",
    "| *Linear Regression (BoxCox)*             | *11.95*   | *16.10*  | *0.295*  | *-0.287* |\n",
    "\n",
    "**Table 1.** Final model comparison based on train/test MAE and R². The tuned XGBoost model outperformed all others across test metrics, while linear regression underperformed significantly.\n"
   ]
  },
  {
   "cell_type": "markdown",
   "metadata": {},
   "source": [
    "#### 2. Feature Importance\n",
    "\n",
    "Feature importance was extracted from the best-performing model (tuned XGBoost) to identify the most influential predictors of salary.\n",
    "\n",
    "- **Job function** was the dominant factor: listings categorized as *Data Scientist* or *Data Analyst* had the largest impact on predicted salary.\n",
    "- **Industry-region combinations** (e.g., *Tech / Innovation in CA*, *Health / Education in MA*) were also strong predictors, reflecting localized market dynamics.\n",
    "- **Company location** (e.g., *California*, *Massachusetts*) and **organization type** (e.g., *Nonprofit*, *Corporation*) contributed significantly as well.\n",
    "- Surprisingly, **technical tool experience** and **experience level** appeared with relatively lower importance in the final model.\n"
   ]
  },
  {
   "cell_type": "markdown",
   "metadata": {},
   "source": [
    "![Feature Importance](images\\feature_importance.png)  \n",
    "**Figure 13.** Top 15 features by importance (Random Forest).\n"
   ]
  },
  {
   "cell_type": "markdown",
   "metadata": {},
   "source": [
    "## 6.Recommendations"
   ]
  },
  {
   "cell_type": "markdown",
   "metadata": {},
   "source": [
    "Based on exploratory analysis, modeling results, and feature importance insights, the following recommendations are proposed:\n",
    "\n",
    "\n",
    "\n"
   ]
  },
  {
   "cell_type": "markdown",
   "metadata": {},
   "source": [
    "### For Job Seekers"
   ]
  },
  {
   "cell_type": "markdown",
   "metadata": {},
   "source": [
    "\n",
    "- **Prioritize high-value roles and skills**: Positions such as *Data Scientist* and *Machine Learning Engineer* consistently showed the highest average salaries (Figure 9). Additionally, tools like **Python**, **Scikit-learn**, **TensorFlow**, **AWS**, and **Spark** were associated with significant salary premiums (Figure 5).\n",
    "- **Invest in technical depth**: Skills linked to machine learning, big data, and cloud computing were top predictors in both frequency and model importance (Figure 14). These tools distinguish higher-paying roles from more entry-level analyst positions.\n",
    "\n"
   ]
  },
  {
   "cell_type": "markdown",
   "metadata": {},
   "source": [
    "### For Employers & Recruiters\n",
    "\n"
   ]
  },
  {
   "cell_type": "markdown",
   "metadata": {},
   "source": [
    "- **Calibrate salary offers to technical requirements**: Listings requiring advanced tools (e.g., deep learning frameworks or distributed systems) should reflect this in compensation. Models showed that these tools align with higher salaries (Figures 4 and 5).\n",
    "- **Use salary prediction tools to support compensation planning**: The tuned **XGBoost** model (Table 1) provides a high-performance framework for estimating market-aligned salaries and ensuring consistency across job postings.\n",
    "\n"
   ]
  },
  {
   "cell_type": "markdown",
   "metadata": {},
   "source": [
    "### For Policy Makers & HR Strategists\n",
    "\n"
   ]
  },
  {
   "cell_type": "markdown",
   "metadata": {},
   "source": [
    "- **Incorporate cost of living into compensation benchmarks**: Our adjusted analysis revealed that some regions (e.g., Illinois) provide higher *real* purchasing power than others with higher nominal salaries (e.g., Massachusetts or New York) (Figures 6–8). Employers offering remote positions or hiring across states should consider geographically adjusted salary bands.\n"
   ]
  },
  {
   "cell_type": "markdown",
   "metadata": {},
   "source": [
    "\n",
    "### Use Case: Predictive Modeling\n"
   ]
  },
  {
   "cell_type": "markdown",
   "metadata": {},
   "source": [
    "\n",
    "- The final XGBoost model can be integrated into internal HR tools to:\n",
    "  - Benchmark proposed salaries against market expectations\n",
    "  - Identify potential misalignments between role requirements and compensation\n",
    "  - Simulate salary outcomes based on different role or company attributes"
   ]
  },
  {
   "cell_type": "markdown",
   "metadata": {},
   "source": [
    "## 7. Technical Details\n",
    "\n"
   ]
  },
  {
   "cell_type": "markdown",
   "metadata": {},
   "source": [
    "The project was implemented in **Python**, using industry-standard libraries for data analysis, modeling, and visualization:\n",
    "\n",
    "- **Data processing**: `pandas`, `numpy`, `re`, `datetime`\n",
    "- **Visualization**: `matplotlib`, `seaborn`, `plotly`\n",
    "- **Modeling & evaluation**: `scikit-learn`, `xgboost`, `lightgbm`\n",
    "- **Feature engineering**: Custom functions for text pattern matching, keyword extraction, and recategorization\n",
    "- **Pipelines**: `scikit-learn` Pipelines were used for all models to streamline preprocessing (e.g., encoding, scaling, transformation) and ensure consistency across training and evaluation\n",
    "- **Hyperparameter tuning**: Conducted via `GridSearchCV` with 5-fold cross-validation\n",
    "\n",
    "\n"
   ]
  },
  {
   "cell_type": "markdown",
   "metadata": {},
   "source": [
    "### Data Structure\n",
    "\n"
   ]
  },
  {
   "cell_type": "markdown",
   "metadata": {},
   "source": [
    "Three datasets were created to support different modeling approaches:\n",
    "\n",
    "- `df_analysis`: Used for EDA; duplicates removed\n",
    "- `df_modeling_tree`: Used for tree-based models; retained duplicates to preserve frequency patterns\n",
    "- `df_modeling_linear`: Used for linear models; deduplicated with row-level weights applied\n",
    "\n"
   ]
  },
  {
   "cell_type": "markdown",
   "metadata": {},
   "source": [
    "### Modeling Notes\n",
    "\n"
   ]
  },
  {
   "cell_type": "markdown",
   "metadata": {},
   "source": [
    "- Target variable for linear models was transformed using **Box-Cox**, resulting in near-normal distribution (Shapiro-Wilk p ≈ 0.73)\n",
    "- Tree-based models used the original salary in USD (`avg_salary`)\n",
    "- Model evaluation was conducted using a stratified train/test split and performance was benchmarked via MAE, RMSE, and R² on both sets"
   ]
  },
  {
   "cell_type": "markdown",
   "metadata": {},
   "source": [
    "## 8. Caveats and Assumptions\n",
    "\n",
    "\n"
   ]
  },
  {
   "cell_type": "markdown",
   "metadata": {},
   "source": [
    "While this project provides valuable insights into salary dynamics for U.S. data-related roles, several limitations should be acknowledged:\n",
    "\n",
    "- **Dataset Size**: The dataset includes approximately **950 job listings**, which is relatively small. As a result, some findings may not generalize across the broader job market or hold under different economic conditions.\n",
    "\n",
    "- **Timeframe**: All listings were collected from **Glassdoor in 2020** and may not reflect post-pandemic changes in remote work, salary structures, or demand for specific roles and tools.\n",
    "\n",
    "- **Salary Estimates**: The target variable (`avg_salary`) was calculated as the midpoint between the minimum and maximum salary estimates. True compensation packages (including bonuses or equity) were not available and may vary significantly.\n",
    "\n",
    "- **Cost of Living Data**: Regional COL adjustments were based on **state-level estimates** from the Economic Policy Institute (EPI) for a four-person household. These may not accurately reflect individual or urban-specific expenses (e.g., Manhattan or San Francisco).\n",
    "\n",
    "- **Feature Extraction**: Variables such as experience level and tool usage were extracted using **regex and keyword matching** from free-text job descriptions. This method may fail to detect non-standard phrasing, implicit requirements, or context-specific mentions.\n",
    "\n",
    "- **Model Bias and Assumptions**:\n",
    "  - Tree-based models retained duplicates, which could overweight listings from certain companies or regions.\n",
    "  - Feature groupings (e.g., job categories, tools, revenue bands) involved simplifications that may obscure intra-group variability.\n",
    "  - All models were trained and tested on data from the same year and platform; performance may vary in other contexts or over time."
   ]
  },
  {
   "cell_type": "markdown",
   "metadata": {},
   "source": []
  }
 ],
 "metadata": {
  "kernelspec": {
   "display_name": "Python 3",
   "language": "python",
   "name": "python3"
  },
  "language_info": {
   "codemirror_mode": {
    "name": "ipython",
    "version": 3
   },
   "file_extension": ".py",
   "mimetype": "text/x-python",
   "name": "python",
   "nbconvert_exporter": "python",
   "pygments_lexer": "ipython3",
   "version": "3.11.2"
  }
 },
 "nbformat": 4,
 "nbformat_minor": 2
}
